{
 "cells": [
  {
   "cell_type": "markdown",
   "metadata": {},
   "source": [
    "# <center> Home Assignment 3</center>"
   ]
  },
  {
   "cell_type": "markdown",
   "metadata": {},
   "source": [
    "There are 5 tasks to be done. Each of them weighs 2 points. There is also an extra bonus task (it is a little bit harder), you are not required to solve it: you can get 10/10 by solving only the first 5 tasks. However, the bonus task also weighs 2 points and it serves as insurance in case you are not able to solve one of the first 5 tasks. If you solve everything, you will get the same 10/10 and will deserve respect."
   ]
  },
  {
   "cell_type": "markdown",
   "metadata": {},
   "source": [
    "**Task 1. (2 points)** <br>\n",
    "**<center> List compression</center>**"
   ]
  },
  {
   "cell_type": "markdown",
   "metadata": {},
   "source": [
    "You are given a list of integers (in the input: numbers in one line separated by one whitespace). It is required to write a function that “compresses” the given list by moving all non-zero elements to the ```left side``` of the list without changing their order, and all zeros to the ```right side```. The order of non-zero elements cannot be changed, an additional list (memory) ```cannot be used```, the task must be completed in ```one pass``` through the list. The function is supposed to return the resulting list. <br>\n",
    "**Example:** <br>\n",
    "```input:```  ```4 0 5 0 3 0 0 5``` <br>\n",
    "array = [4, 0, 5, 0, 3, 0, 0, 5] <br>\n",
    "```output:``` [4, 5, 3, 5, 0, 0, 0, 0]"
   ]
  },
  {
   "cell_type": "code",
   "execution_count": 18,
   "metadata": {},
   "outputs": [
    {
     "name": "stdout",
     "output_type": "stream",
     "text": [
      "1 0 2 0 3 0 4 0 5 0\n",
      "[1, 2, 3, 4, 5, 0, 0, 0, 0, 0, 0]\n"
     ]
    }
   ],
   "source": [
    "array = [int(x) for x in input().split()]\n",
    "\n",
    "def compress_list(array):\n",
    "    n_notnulls = 0\n",
    "    for i in range(len(array)):\n",
    "        element = array[i]\n",
    "        if element != 0:\n",
    "            array[n_notnulls] = element\n",
    "            n_notnulls += 1\n",
    "    array[n_notnulls + 1:] = [0] * (len(array) - n_notnulls)\n",
    "    return array\n",
    "\n",
    "print(compress_list(array))"
   ]
  },
  {
   "cell_type": "markdown",
   "metadata": {},
   "source": [
    "**Task 2. (2 points)** <br>\n",
    "**<center> The 2020 United States presidential election</center>**"
   ]
  },
  {
   "cell_type": "markdown",
   "metadata": {},
   "source": [
    "As you know, in the United States the president is not elected by a direct vote, but by a two-level vote. First, elections are held in each state and the winner of the elections in that state is determined. Then the state elections are held: in these elections, each state has a certain number of votes - the number of electors from that state. In practice, all state electors vote according to the results of intra-state voting, that is, states with a different number of votes vote in the final stage of elections. You know who each state voted for and how many votes were cast by that state. Sum up the results of the elections: for each of the voting participants, determine the number of votes cast for him. <br>\n",
    "**Input format:** <br> \n",
    "Each line of the input consists of ```the surname of the candidate```, for which the electors of that state are voting, followed by ```the number of electors``` who voted for this candidate, separated by a space. The input lines are supposed to be read in a cycle. The input itself ends when the following line contains ```-1```. In the end, you should obtain a list ```input_lines``` with strings, where one string equals to one input line (e.g. 'McCain 10'). <br>\n",
    "**Output format:** <br>\n",
    "Print the surnames of all candidates in a lexicographic order and the number of votes cast for them, separated by a space. <br>\n",
    "**Example:** <br>\n",
    "```input:``` <br> \n",
    "```McCain 10\n",
    "McCain 5\n",
    "Obama 9\n",
    "Obama 8\n",
    "McCain 1\n",
    "-1``` <br>\n",
    "\n",
    "input_lines = ['McCain 10', 'McCain 5', 'Obama 9', 'Obama 8', 'McCain 1'] <br>\n",
    "\n",
    "```output:``` <br>\n",
    "McCain 16 <br>\n",
    "Obama 17 <br>"
   ]
  },
  {
   "cell_type": "code",
   "execution_count": 56,
   "metadata": {},
   "outputs": [],
   "source": [
    "# Input\n",
    "input_lines = ['Biden 16', 'Trump 11', 'Trump 7', 'Biden 4', 'Biden 2']\n",
    "\n",
    "        \n",
    "def count_votes(input_lines):\n",
    "    votes = dict()\n",
    "    for vote in input_lines:\n",
    "        name, amount = vote.split()\n",
    "        amount = int(amount)\n",
    "        if name in votes.keys():\n",
    "            votes[name] += amount\n",
    "        else:\n",
    "            votes.update({name: amount})\n",
    "    \n",
    "    for key in sorted(votes.keys()):\n",
    "        print(key, votes[key])\n"
   ]
  },
  {
   "cell_type": "code",
   "execution_count": 57,
   "metadata": {},
   "outputs": [
    {
     "name": "stdout",
     "output_type": "stream",
     "text": [
      "Biden 22\n",
      "Trump 18\n"
     ]
    }
   ],
   "source": [
    "count_votes(input_lines)"
   ]
  },
  {
   "cell_type": "code",
   "execution_count": 58,
   "metadata": {},
   "outputs": [
    {
     "name": "stdout",
     "output_type": "stream",
     "text": [
      "McCain 16\n",
      "Obama 17\n"
     ]
    }
   ],
   "source": [
    "count_votes(['McCain 10', 'McCain 5', 'Obama 9', 'Obama 8', 'McCain 1'])"
   ]
  },
  {
   "cell_type": "markdown",
   "metadata": {},
   "source": [
    "**Task 3. (2 points)** <br>\n",
    "**<center> Matching pairs</center>**"
   ]
  },
  {
   "cell_type": "markdown",
   "metadata": {},
   "source": [
    "You are given a list of numbers (in the input: numbers in one line separated by one whitespace). Write a function that returns the number of pairs of elements which are equal to each other. It is considered that ```any``` two elements equal to each other form one pair, which must be counted. Indices of elements matters. In Test 2, in terms of indices, 10 pairs are the following: [0, 1], [0, 2], [0, 3], [0, 4], [1, 2], [1, 3], [1, 4], [2, 3], [2, 4], [3, 4]. That's why the answer is 10.  <br>\n",
    "**Examples:** <br>\n",
    "**Test 1** <br>\n",
    "```input:``` ```1 2 3 2 3``` <br>\n",
    "array = [1, 2, 3, 2, 3] <br>\n",
    "```output:``` 2 <br>\n",
    "**Test 2** <br>\n",
    "```input:``` ```1 1 1 1 1``` <br>\n",
    "array = [1, 1, 1, 1, 1] <br>\n",
    "```output:``` 10 <br>"
   ]
  },
  {
   "cell_type": "code",
   "execution_count": 41,
   "metadata": {},
   "outputs": [
    {
     "name": "stdout",
     "output_type": "stream",
     "text": [
      "\n"
     ]
    }
   ],
   "source": [
    "array = [int(x) for x in input().split()]\n",
    "\n",
    "def count_pairs(array):\n",
    "    numbers = dict()\n",
    "    # key: number from array\n",
    "    # value: amount of its occurences in array\n",
    "    for number in array:\n",
    "        if number in numbers.keys():\n",
    "            numbers[number] += 1\n",
    "        else:\n",
    "            numbers.update({number: 1})\n",
    "    result = 0\n",
    "    for amount in numbers.values():\n",
    "        result += (amount - 1) * amount // 2\n",
    "    return result"
   ]
  },
  {
   "cell_type": "code",
   "execution_count": 42,
   "metadata": {},
   "outputs": [
    {
     "name": "stdout",
     "output_type": "stream",
     "text": [
      "2\n"
     ]
    }
   ],
   "source": [
    "print(count_pairs([1, 2, 3, 2, 3]))"
   ]
  },
  {
   "cell_type": "code",
   "execution_count": 43,
   "metadata": {},
   "outputs": [
    {
     "name": "stdout",
     "output_type": "stream",
     "text": [
      "10\n"
     ]
    }
   ],
   "source": [
    "print(count_pairs([1, 1, 1, 1, 1]))"
   ]
  },
  {
   "cell_type": "markdown",
   "metadata": {},
   "source": [
    "**Task 4. (2 points)** <br>\n",
    "**<center> The most frequent countries</center>**"
   ]
  },
  {
   "cell_type": "markdown",
   "metadata": {},
   "source": [
    "Your are given a list of countries (in the input: countries in one line separated by one whitespace). It is required to write a function that determines which country occurs most often in this list and returns it without ```changing``` an input list or using ```additional lists```. If there are several such countries, return a list with all of them. <br>\n",
    "**Examples:** <br>\n",
    "**Test 1** <br>\n",
    "```input:``` ```India Austria India Italy Austria India``` <br>\n",
    "countries = ['India', 'Austria', 'India', 'Italy', 'Austria', 'India'] <br>\n",
    "```output:``` 'India' <br>\n",
    "**Test 2** <br>\n",
    "```input:``` ```Germany Poland Russia Germany France Russia``` <br>\n",
    "countries = ['Germany', 'Poland', 'Russia', 'Germany', 'France', 'Russia'] <br>\n",
    "```output:``` ['Germany', 'Russia']"
   ]
  },
  {
   "cell_type": "code",
   "execution_count": 38,
   "metadata": {},
   "outputs": [
    {
     "name": "stdout",
     "output_type": "stream",
     "text": [
      "\n"
     ]
    }
   ],
   "source": [
    "countries = [x for x in input().split()]\n",
    "\n",
    "\n",
    "def most_frequent_countries(countries):\n",
    "    amounts = dict()\n",
    "    max_countries = list()\n",
    "    max_amount = 0\n",
    "    for country in countries:\n",
    "        if country in amounts.keys():\n",
    "            amounts[country] += 1\n",
    "        else:\n",
    "            amounts[country] = 1\n",
    "        current_amount = amounts[country]\n",
    "        if current_amount > max_amount:\n",
    "            max_amount = current_amount\n",
    "            max_countries = [country]\n",
    "        elif current_amount == max_amount:\n",
    "            max_countries.append(country)\n",
    "    if len(max_countries) == 1:\n",
    "        return max_countries[0]\n",
    "    return max_countries"
   ]
  },
  {
   "cell_type": "code",
   "execution_count": 39,
   "metadata": {},
   "outputs": [
    {
     "name": "stdout",
     "output_type": "stream",
     "text": [
      "['Germany', 'Russia']\n"
     ]
    }
   ],
   "source": [
    "print(most_frequent_countries(['Germany', 'Poland', 'Russia', 'Germany', 'France', 'Russia']))"
   ]
  },
  {
   "cell_type": "code",
   "execution_count": 40,
   "metadata": {},
   "outputs": [
    {
     "name": "stdout",
     "output_type": "stream",
     "text": [
      "India\n"
     ]
    }
   ],
   "source": [
    "print(most_frequent_countries(['India', 'Austria', 'India', 'Italy', 'Austria', 'India']))"
   ]
  },
  {
   "cell_type": "markdown",
   "metadata": {},
   "source": [
    "**Task 5. (2 points)** <br>\n",
    "**<center> The Queen's Gambit </center>**"
   ]
  },
  {
   "cell_type": "markdown",
   "metadata": {},
   "source": [
    "It is known that 8 queens can be placed on an 8 × 8 chessboard so that they do not beat each other. You are given the arrangement of 8 queens on the board, determine if there is a pair of them hitting each other. <br>\n",
    "**Input format:** <br>\n",
    "The program receives eight pairs of numbers as an input, each number from 1 to 8 is the coordinates of 8 queens.<br>\n",
    "**Output format:** <br>\n",
    "If the queens do not beat each other, print the word ```NO```, otherwise print ```YES```. <br>\n",
    "**Examples:** <br>\n",
    "**Test 1** <br>\n",
    "```input:``` <br>\n",
    "1 7 <br>\n",
    "2 4 <br>\n",
    "3 2 <br>\n",
    "4 8 <br>\n",
    "5 6 <br>\n",
    "6 1 <br>\n",
    "7 3 <br>\n",
    "8 5 <br>\n",
    "```output:``` <br>\n",
    "NO <br>\n",
    "**Test 2** <br>\n",
    "```input:``` <br>\n",
    "1 8 <br>\n",
    "2 7 <br>\n",
    "3 6 <br>\n",
    "4 5 <br>\n",
    "5 4 <br>\n",
    "6 3 <br>\n",
    "7 2 <br>\n",
    "8 1 <br>\n",
    "```output:``` <br>\n",
    "YES"
   ]
  },
  {
   "cell_type": "code",
   "execution_count": 52,
   "metadata": {},
   "outputs": [
    {
     "name": "stdout",
     "output_type": "stream",
     "text": [
      "1 8\n",
      "2 7\n",
      "3 6\n",
      "4 5\n",
      "5 4\n",
      "6 3\n",
      "7 2\n",
      "8 1\n",
      "[[1, 8], [2, 7], [3, 6], [4, 5], [5, 4], [6, 3], [7, 2], [8, 1]]\n",
      "YES\n"
     ]
    }
   ],
   "source": [
    "# input of any format\n",
    "input_lines = []\n",
    "for i in range(8):\n",
    "    pose = []\n",
    "    inp = input().split()\n",
    "    for num in inp:\n",
    "        pose.append(int(num))\n",
    "    input_lines.append(pose)\n",
    "print(input_lines)\n",
    "# YOUR CODE HERE\n",
    "\n",
    "def is_beaten_by_queen(input_lines):\n",
    "    # YOUR CODE HERE\n",
    "    # queens don't beat each other if each of them is on different width and height (vertical and horizontal beat)\n",
    "    x = set([line[0] for line in input_lines])\n",
    "    y = set([line[1] for line in input_lines])\n",
    "    if len(x) < 8 or len(y) < 8:\n",
    "        return 'YES'\n",
    "    # queens also must be on different diagonals\n",
    "    # diagonal is same if abs(x1 - x2) = abs(y1 - y2)\n",
    "    for i in range(len(input_lines)):\n",
    "        for j in range(i + 1, len(input_lines)):\n",
    "            x1 = input_lines[i][0]\n",
    "            x2 = input_lines[j][0]\n",
    "            y1 = input_lines[i][1]\n",
    "            y2 = input_lines[j][1]\n",
    "            if abs(x1 - x2) == abs(y1 - y2):\n",
    "                return 'YES'\n",
    "    return 'NO'\n",
    "\n",
    "print(is_beaten_by_queen(input_lines))"
   ]
  },
  {
   "cell_type": "code",
   "execution_count": 53,
   "metadata": {},
   "outputs": [
    {
     "name": "stdout",
     "output_type": "stream",
     "text": [
      "1 7\n",
      "2 4\n",
      "3 2\n",
      "4 8\n",
      "5 6\n",
      "6 1\n",
      "7 3\n",
      "8 5\n",
      "[[1, 7], [2, 4], [3, 2], [4, 8], [5, 6], [6, 1], [7, 3], [8, 5]]\n",
      "NO\n"
     ]
    }
   ],
   "source": [
    "input_lines = []\n",
    "for i in range(8):\n",
    "    pose = []\n",
    "    inp = input().split()\n",
    "    for num in inp:\n",
    "        pose.append(int(num))\n",
    "    input_lines.append(pose)\n",
    "print(input_lines)\n",
    "\n",
    "print(is_beaten_by_queen(input_lines))"
   ]
  },
  {
   "cell_type": "markdown",
   "metadata": {},
   "source": [
    "**Bonus task! 2 additional points** <br>\n",
    "**<center> Family tree</center>**"
   ]
  },
  {
   "cell_type": "markdown",
   "metadata": {},
   "source": [
    "In the family tree, each person, except for the ancestor, has exactly one parent. Each element of the tree is associated with a ```non-negative integer``` called the height. The ancestor has a height of 0, any other element has a height 1 ```more``` than its parent. You are given a family tree, determine the height of all its elements. <br>\n",
    "**Input format:** <br>\n",
    "The program receives as input the number of elements in the family tree N. Then N-1 lines follow, specifying the parent for each element of the tree, except for the ancestor. Each line has the form descendant_name parent_name (two words separated by a space) <br>\n",
    "**Output format:** <br>\n",
    "The program should list all the elements in the tree in a lexicographic order. After printing the name of each element, it should print its height. <br>\n",
    "**Note:** <br>\n",
    "This problem has a solution of complexity O(n), but you only need to write a solution of complexity O(n²) (not counting the complexity of accessing the elements of the dictionary). The example below corresponds to the given tree of the Romanov family. <br>\n",
    "**Example:** <br>\n",
    "```input:``` <br>\n",
    "9 <br>\n",
    "Alexei Peter_I <br>\n",
    "Anna Peter_I <br>\n",
    "Elizabeth Peter_I <br>\n",
    "Peter_II Alexei <br>\n",
    "Peter_III Anna <br>\n",
    "Paul_I Peter_III <br>\n",
    "Alexander_I Paul_I <br>\n",
    "Nicholaus_I Paul_I <br>\n",
    "```output:``` <br>\n",
    "Alexander_I 4 <br>\n",
    "Alexei 1 <br>\n",
    "Anna 1 <br>\n",
    "Elizabeth 1 <br>\n",
    "Nicholaus_I 4 <br>\n",
    "Paul_I 3 <br>\n",
    "Peter_I 0 <br>\n",
    "Peter_II 2 <br>\n",
    "Peter_III 2 <br>"
   ]
  },
  {
   "cell_type": "code",
   "execution_count": null,
   "metadata": {},
   "outputs": [],
   "source": [
    "# YOUR CODE HERE"
   ]
  },
  {
   "cell_type": "code",
   "execution_count": null,
   "metadata": {},
   "outputs": [],
   "source": []
  }
 ],
 "metadata": {
  "kernelspec": {
   "display_name": "Python 3",
   "language": "python",
   "name": "python3"
  },
  "language_info": {
   "codemirror_mode": {
    "name": "ipython",
    "version": 3
   },
   "file_extension": ".py",
   "mimetype": "text/x-python",
   "name": "python",
   "nbconvert_exporter": "python",
   "pygments_lexer": "ipython3",
   "version": "3.8.5"
  }
 },
 "nbformat": 4,
 "nbformat_minor": 4
}
